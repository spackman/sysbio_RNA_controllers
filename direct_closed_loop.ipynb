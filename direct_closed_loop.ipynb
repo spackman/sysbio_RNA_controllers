{
 "cells": [
  {
   "cell_type": "markdown",
   "metadata": {},
   "source": [
    "### Direct Controller Analysis\n",
    "\n",
    "This notebook contains the analysis of the direct controller across temperatures."
   ]
  },
  {
   "cell_type": "code",
   "execution_count": 3,
   "metadata": {},
   "outputs": [],
   "source": [
    "import import_ipynb\n",
    "from kinetic_parameters import rate"
   ]
  },
  {
   "cell_type": "code",
   "execution_count": 4,
   "metadata": {},
   "outputs": [
    {
     "data": {
      "text/plain": [
       "{'alpha_X': 0.1,\n",
       " 'alpha_Y': 0.001,\n",
       " 'alpha_Y+': 1.0,\n",
       " 'delta_X': 0.0005,\n",
       " 'delta_Y': 0.0005,\n",
       " 'kappa': 5000000.0,\n",
       " 'omega': 5000000.0,\n",
       " 'nu': 1.0,\n",
       " 'beta_A': nan,\n",
       " 'delta_A': nan,\n",
       " 'alpha_O': 0.001,\n",
       " 'alpha_O+': 1.0,\n",
       " 'delta_O': 0.002}"
      ]
     },
     "execution_count": 4,
     "metadata": {},
     "output_type": "execute_result"
    }
   ],
   "source": [
    "rate(controller=\"direct_closed_loop\", temperature_C=25)"
   ]
  }
 ],
 "metadata": {
  "kernelspec": {
   "display_name": "sysbio",
   "language": "python",
   "name": "python3"
  },
  "language_info": {
   "codemirror_mode": {
    "name": "ipython",
    "version": 3
   },
   "file_extension": ".py",
   "mimetype": "text/x-python",
   "name": "python",
   "nbconvert_exporter": "python",
   "pygments_lexer": "ipython3",
   "version": "3.10.16"
  }
 },
 "nbformat": 4,
 "nbformat_minor": 2
}
