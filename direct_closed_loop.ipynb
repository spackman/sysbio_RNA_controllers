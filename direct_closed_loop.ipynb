{
 "cells": [
  {
   "cell_type": "markdown",
   "metadata": {},
   "source": [
    "### Direct Controller Analysis\n",
    "\n",
    "This notebook contains the analysis of the direct controller across temperatures."
   ]
  },
  {
   "cell_type": "code",
   "execution_count": 107,
   "metadata": {},
   "outputs": [],
   "source": [
    "import import_ipynb\n",
    "from kinetic_parameters import rate\n",
    "\n",
    "import matplotlib.pyplot as plt\n",
    "import numpy as np\n",
    "import scipy\n",
    "import pandas as pd"
   ]
  },
  {
   "cell_type": "code",
   "execution_count": 128,
   "metadata": {},
   "outputs": [
    {
     "data": {
      "text/plain": [
       "Text(0, 0.5, 'O (nM)')"
      ]
     },
     "execution_count": 128,
     "metadata": {},
     "output_type": "execute_result"
    },
    {
     "data": {
      "image/png": "[encoded data removed]",
      "text/plain": [
       "<Figure size 640x480 with 1 Axes>"
      ]
     },
     "metadata": {},
     "output_type": "display_data"
    }
   ],
   "source": [
    "def dcl_solution(conds):\n",
    "    temp = conds[\"temperature\"]\n",
    "    PX = conds[\"PX\"]\n",
    "    PY = conds[\"PY\"]\n",
    "    \n",
    "    X0 = conds[\"X_init\"]\n",
    "    Y0 = conds[\"Y_init\"]\n",
    "    A0 = conds[\"A_init\"]\n",
    "    PY_plus0 = conds[\"PY_plus_init\"]\n",
    "    O0 = conds[\"O_init\"]\n",
    "    \n",
    "    parameters = rate(controller=\"direct_closed_loop\", temperature_C=temp)\n",
    "    \n",
    "    t = np.linspace(0, conds[\"t_end\"], conds[\"t_steps\"])\n",
    "    \n",
    "    def system(vars, t):\n",
    "        X, Y, A, PY_plus, O = vars\n",
    "\n",
    "        dXdt = parameters[\"alpha_X\"]*PX - parameters[\"delta_X\"] - parameters[\"kappa\"]*X*Y - parameters[\"omega\"]*X*PY + parameters[\"nu\"]*PY_plus\n",
    "        dYdt = parameters[\"alpha_Y\"]*PY + parameters[\"alpha_Y+\"]*PY_plus - parameters[\"delta_Y\"]*Y - parameters[\"kappa\"]*X*Y\n",
    "        dAdt = 0\n",
    "        dPY_plusdt = parameters[\"omega\"]*X*PY - parameters[\"nu\"]*PY_plus\n",
    "        dOdt = parameters[\"alpha_O\"]*PY + parameters[\"alpha_O+\"]*PY_plus - parameters[\"delta_O\"]*O\n",
    "        return [dXdt, dYdt, dAdt, dPY_plusdt, dOdt]\n",
    "    \n",
    "    initial_conditions = [X0, Y0, A0, PY_plus0, O0]\n",
    "    \n",
    "    solution = scipy.integrate.odeint(system, initial_conditions, t)\n",
    "    \n",
    "    response = pd.DataFrame({\n",
    "        \"time[s]\": t,\n",
    "        \"X\": solution[:, 0],\n",
    "        \"Y\": solution[:, 1],\n",
    "        \"A\": solution[:, 2],\n",
    "        \"PY_+\": solution[:, 3],\n",
    "        \"O\": solution[:, 4],\n",
    "    })\n",
    "    \n",
    "    return response\n",
    "\n",
    "conds = {\n",
    "    \"temperature\": 25,\n",
    "    \"PX\": 10,\n",
    "    \"PY\": 20,\n",
    "    \"X_init\": 0,\n",
    "    \"Y_init\": 0,\n",
    "    \"A_init\": 0,\n",
    "    \"PY_plus_init\": 0,\n",
    "    \"O_init\": 0,\n",
    "    \"t_end\": 36000,\n",
    "    \"t_steps\": 1000,\n",
    "}\n",
    "\n",
    "results = dcl_solution(conds)\n",
    "\n",
    "plt.plot(results[\"time[s]\"], results[\"O\"])\n",
    "plt.xlabel(\"Time (seconds)\")\n",
    "plt.ylabel(\"O (nM)\")"
   ]
  },
  {
   "cell_type": "code",
   "execution_count": null,
   "metadata": {},
   "outputs": [],
   "source": []
  }
 ],
 "metadata": {
  "kernelspec": {
   "display_name": "Python 3",
   "language": "python",
   "name": "python3"
  },
  "language_info": {
   "codemirror_mode": {
    "name": "ipython",
    "version": 3
   },
   "file_extension": ".py",
   "mimetype": "text/x-python",
   "name": "python",
   "nbconvert_exporter": "python",
   "pygments_lexer": "ipython3",
   "version": "3.13.1"
  }
 },
 "nbformat": 4,
 "nbformat_minor": 2
}
