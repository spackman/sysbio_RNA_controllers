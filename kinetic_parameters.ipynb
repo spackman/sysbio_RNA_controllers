{
 "cells": [
  {
   "cell_type": "markdown",
   "metadata": {},
   "source": [
    "### Kinetic Parameters\n",
    "\n",
    "This notebook contains kinetic parameters and utility functions for the final project."
   ]
  },
  {
   "cell_type": "markdown",
   "metadata": {
    "vscode": {
     "languageId": "plaintext"
    }
   },
   "source": [
    "Use this code with:\n",
    "```python\n",
    "import import_ipynb\n",
    "from kinetic_parameters import rate\n",
    "```"
   ]
  }
 ],
 "metadata": {
  "language_info": {
   "name": "python"
  }
 },
 "nbformat": 4,
 "nbformat_minor": 2
}
