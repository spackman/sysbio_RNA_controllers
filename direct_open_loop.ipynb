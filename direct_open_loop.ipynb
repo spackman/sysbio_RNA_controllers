{
 "cells": [
  {
   "cell_type": "markdown",
   "metadata": {},
   "source": [
    "### Direct Open Loop Controller Analysis\n",
    "\n",
    "This notebook contains the analysis of the direct open loop controller across temperatures."
   ]
  },
  {
   "cell_type": "code",
   "execution_count": null,
   "metadata": {
    "vscode": {
     "languageId": "plaintext"
    }
   },
   "outputs": [],
   "source": [
    "import import_ipynb\n",
    "from kinetic_parameters import rate"
   ]
  }
 ],
 "metadata": {
  "language_info": {
   "name": "python"
  }
 },
 "nbformat": 4,
 "nbformat_minor": 2
}
