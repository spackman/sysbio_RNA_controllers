{
 "cells": [
  {
   "cell_type": "markdown",
   "metadata": {},
   "source": [
    "### Direct Open Loop Controller Analysis\n",
    "\n",
    "This notebook contains the analysis of the direct open loop controller across temperatures."
   ]
  },
  {
   "cell_type": "code",
   "execution_count": 3,
   "metadata": {},
   "outputs": [],
   "source": [
    "import import_ipynb\n",
    "from kinetic_parameters import rate"
   ]
  },
  {
   "cell_type": "code",
   "execution_count": 2,
   "metadata": {},
   "outputs": [
    {
     "data": {
      "text/plain": [
       "{'alpha_X': 0.1,\n",
       " 'alpha_Y': 0.001,\n",
       " 'alpha_Y+': 1.0,\n",
       " 'delta_X': 0.0005,\n",
       " 'delta_Y': 0.0,\n",
       " 'kappa': 5000000.0,\n",
       " 'omega': 1.0,\n",
       " 'nu': nan,\n",
       " 'beta_A': nan,\n",
       " 'delta_A': nan,\n",
       " 'alpha_O': 0.001,\n",
       " 'alpha_O+': 1.0,\n",
       " 'delta_O': 0.002}"
      ]
     },
     "execution_count": 2,
     "metadata": {},
     "output_type": "execute_result"
    }
   ],
   "source": [
    "rate(controller=\"direct_open_loop\", temperature_C=25)"
   ]
  }
 ],
 "metadata": {
  "kernelspec": {
   "display_name": "sysbio",
   "language": "python",
   "name": "python3"
  },
  "language_info": {
   "codemirror_mode": {
    "name": "ipython",
    "version": 3
   },
   "file_extension": ".py",
   "mimetype": "text/x-python",
   "name": "python",
   "nbconvert_exporter": "python",
   "pygments_lexer": "ipython3",
   "version": "3.10.16"
  }
 },
 "nbformat": 4,
 "nbformat_minor": 2
}
